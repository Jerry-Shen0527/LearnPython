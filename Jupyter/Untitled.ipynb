{
 "cells": [
  {
   "cell_type": "code",
   "execution_count": 1,
   "metadata": {},
   "outputs": [
    {
     "data": {
      "text/html": [
       "<div><pre style=\"&#102;&#111;&#110;&#116;&#45;&#102;&#97;&#109;&#105;&#108;&#121;&#58;&#32;&#34;&#67;&#111;&#117;&#114;&#105;&#101;&#114;&#32;&#78;&#101;&#119;&#34;&#44;&#67;&#111;&#117;&#114;&#105;&#101;&#114;&#44;&#109;&#111;&#110;&#111;&#115;&#112;&#97;&#99;&#101;&#59;\">&#50;</pre></div>"
      ]
     },
     "execution_count": 1,
     "metadata": {
      "text/html": []
     },
     "output_type": "execute_result"
    }
   ],
   "source": [
    "1+1"
   ]
  },
  {
   "cell_type": "code",
   "execution_count": 2,
   "metadata": {},
   "outputs": [
    {
     "data": {
      "text/html": [
       "<div><img alt=\"Output\" src=\"data:image/png;base64,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\"></div>"
      ]
     },
     "execution_count": 2,
     "metadata": {
      "text/html": []
     },
     "output_type": "execute_result"
    }
   ],
   "source": [
    "{{1,2},{3,4}}//MatrixForm"
   ]
  },
  {
   "cell_type": "code",
   "execution_count": 3,
   "metadata": {},
   "outputs": [],
   "source": [
    "f[x_]:=x^2"
   ]
  },
  {
   "cell_type": "code",
   "execution_count": 4,
   "metadata": {},
   "outputs": [
    {
     "data": {
      "text/html": [
       "<div><pre style=\"&#102;&#111;&#110;&#116;&#45;&#102;&#97;&#109;&#105;&#108;&#121;&#58;&#32;&#34;&#67;&#111;&#117;&#114;&#105;&#101;&#114;&#32;&#78;&#101;&#119;&#34;&#44;&#67;&#111;&#117;&#114;&#105;&#101;&#114;&#44;&#109;&#111;&#110;&#111;&#115;&#112;&#97;&#99;&#101;&#59;\">&#57;</pre></div>"
      ]
     },
     "execution_count": 4,
     "metadata": {
      "text/html": []
     },
     "output_type": "execute_result"
    }
   ],
   "source": [
    "f[3]"
   ]
  },
  {
   "cell_type": "code",
   "execution_count": 5,
   "metadata": {},
   "outputs": [
    {
     "data": {
      "text/html": [
       "<div><pre style=\"&#102;&#111;&#110;&#116;&#45;&#102;&#97;&#109;&#105;&#108;&#121;&#58;&#32;&#34;&#67;&#111;&#117;&#114;&#105;&#101;&#114;&#32;&#78;&#101;&#119;&#34;&#44;&#67;&#111;&#117;&#114;&#105;&#101;&#114;&#44;&#109;&#111;&#110;&#111;&#115;&#112;&#97;&#99;&#101;&#59;\">&#52;</pre></div>"
      ]
     },
     "execution_count": 5,
     "metadata": {
      "text/html": []
     },
     "output_type": "execute_result"
    }
   ],
   "source": [
    "f[1+1]"
   ]
  },
  {
   "cell_type": "code",
   "execution_count": 7,
   "metadata": {},
   "outputs": [
    {
     "data": {
      "text/html": [
       "<div><img alt=\"Output\" src=\"data:image/png;base64,iVBORw0KGgoAAAANSUhEUgAAABEAAAAPCAIAAACN07NGAAAAhXpUWHRSYXcgcHJvZmlsZSB0eXBlIGV4aWYAAHjaVYvBDcMwDAP/mqIjyLJM2uMYiQNkg45fuu0n9yApgbT1vi97felp2dgxABc5csRU6P6juNciDXn+X9MfZGWgoRhTluEkhnJXkqKFN+LCAahYcIbnIV8gNQN3o86928QyPusLVffpbh/5eCey76LuBgAAAAlwSFlzAAALEwAACxMBAJqcGAAAADx0RVh0U29mdHdhcmUAQ3JlYXRlZCB3aXRoIHRoZSBXb2xmcmFtIExhbmd1YWdlIDogd3d3LndvbGZyYW0uY29tXKKmhQAAACF0RVh0Q3JlYXRpb24gVGltZQAyMDE5OjEwOjA1IDE5OjQzOjQxPbTsHAAAAVZJREFUKJFj/P//PwOJgIlUDWTqYWFgYPj/8+nRFfPXn37NqemTnOSsyEnIoP9/nkwzZWDSDskpSrTlZ2Awn/b4z3/8gOH//3/fHt998+vf////vp2I5GHQn/YMrunfjwer6/Krl9798e////9/3x/rKSqdepYBSf+/76djeRgsl776ixD783pDIC+DYvmlb3/ebg7kZTDqufMDoeffrwdTLBg4vTe8RdLy////v58OpYgzSAZl2vNyui55/uf/fwaYhufrI0QZpFP2vUfV8f//////vhyL5WdgYHBc9eYv1D8wDZJxm1/8/ofp5T8vVnjxMHDwMzBZTLr389///wz//7zaHC3OwKCYvPTw6TNnzpw5c/HBF4Rd/37c7jZiYHNZ8vjVzgh+Bvn8k5//Mfz7tMsNLcrCz/2A6fh8IkeOgdN73as//////XQoWZyBJ2At4yBObwDgqTLhZftyzwAAAABJRU5ErkJggg==\"></div>"
      ]
     },
     "execution_count": 7,
     "metadata": {
      "text/html": []
     },
     "output_type": "execute_result"
    }
   ],
   "source": [
    "D[x^2,x]"
   ]
  },
  {
   "cell_type": "code",
   "execution_count": 1,
   "metadata": {},
   "outputs": [
    {
     "data": {
      "text/html": [
       "<div><img alt=\"Output\" src=\"data:image/png;base64,iVBORw0KGgoAAAANSUhEUgAAALIAAAAPCAIAAADPvAKUAAAAhXpUWHRSYXcgcHJvZmlsZSB0eXBlIGV4aWYAAHjaVYvBDcMwDAP/mqIjyLJM2uMYiQNkg45fuu0n9yApgbT1vi97felp2dgxABc5csRU6P6juNciDXn+X9MfZGWgoRhTluEkhnJXkqKFN+LCAahYcIbnIV8gNQN3o86928QyPusLVffpbh/5eCey76LuBgAAAAlwSFlzAAALEwAACxMBAJqcGAAAADx0RVh0U29mdHdhcmUAQ3JlYXRlZCB3aXRoIHRoZSBXb2xmcmFtIExhbmd1YWdlIDogd3d3LndvbGZyYW0uY29tXKKmhQAAACF0RVh0Q3JlYXRpb24gVGltZQAyMDE5OjEwOjA1IDE5OjQ5OjAxNmXJfAAACpNJREFUWIXtWXlYFFcSr56TgUFETrlE8SAQwAgosJJsjCiSaCIKiomaxCQa1yOyLppVOdRojBiPiF9A8EQDuFFyuBqNwmo4jaAYEIMMNwzDwAAz9DQ93e/tH8MlNIpZcuz35fdf1/de1ftVVVfV6yYwxvAn/sSj4P3eB/gTf0QMX1pgXWtN6b17JeUNahZ3SVRVFU2d/yfVCFGKqipFv9NyCvXArKZWJtei3+Z0wwSkbaySyWQyWUVtq+5xgcHDAURXJsyWAvBMzaTgEP6AxhhjXUWME4D56hJ6WGz82tDmzQcIzqOeLMQYY8wqTvoA8F7LUKPhsI6o6qvx8Vkt7HAoG9wKmRNmpY+7U0ylbvCFw1ItMHV3S/h3zyTUUs1KNarYO0EIAMC3XhIVsWH7Knv+cNj4o4EYOXNL9LpdG9wlxHCoQ61XNq/89Ib61y2thMTnrBwz8kTPJywU6A+lrbqeGPdFTg1j6vLy2vCFzkY8rGvMPXXg6JUy7SiP4LUfLHAx5rH1aTGJorBXtGc/u1Am9nwnMvwlGyEBAJiqqdGYe0+3FBIAwOMBpitPbYu91QEgtG+he4zhztrM+NikG3VgZjlSSAjtQ7aFT/g+6pD23ZhlY8UE23A++mDbmzFvjoOKEzu+dHwvWJe27/iPOre3ov4+y05MAFKXph/Yn1akMfMKC18b5GT4NEmNNPe/Tjj+bX65irDweG3thhBXYx4AIE3ZpYSECwWN2qYfAPy713II9WCVV/fs/Kqe0XvPmmIBANj6tG0DWDg2n4s+KlwyH/8r7lwxeLy1dcMsW23O/h3/tlsfFeogJADYxm93flL8/Mpnbx65WJpVDA/ojWtqLflg+Ny67W9PNCAG8sWdMk7P9AOmfj4Wk2oX/s/ZFvp3ErX+8OnHBTO2rJlizOEzzLbcSf3s82+KlKzR6Gmrdm7w4wFgbVGkl2PA7iJDFy9nI9nlrBYMqCl94Xi/6FIbP/8JqjOhrt4xpZ2YUaTvjZrv4vtJvdNkafbmgDlH6nWtNyNfDwldEpUNyi9XhoaEhIS8ue8+BYRglJWNJf9+8oGj/1F3tV/U+v1SlxmH2vzeCHVTpMXFna+TGAkYRfq+PWnVjN7jXx/Yk1qhA9BVpn0UMcvJeVW2ibtFcUxgwKEaFmvvbfV+ZlWuzax53swXr45/Kb6OfYqsALY+5ViO1t5n5kyX1uOLnw1KbkKAycLNz00MSycn+E4ZJxV0OYlL2ANCIDW3trGxsbEUlacc/PxaGwIAThaMIj02OtjFY1ORmav5TzGB0zb9REvt8OWPVkbdoTAA6CoPr40+r7E1GWFhbW0xQgyiLtVWo8QEcPPl8sxArgSfyY/fmVBOY4wRQhjY+tO79mVQAs7KpnsY7TVlTc4o/3mvBky2QhodBsCsItkXDOZfVvVpa3T51jHgEqvvPqwi2RckYXmktjBMBBMjfyIRRmTeQh4EZao7Hl46mRS/e9FoAO+NcUlJSUnJmQ20vt0y8kTPPj2Mur1YBAGX2xHGTO1+Vxi/o1KHqcIwEQRlahDGuLNouRRmX1UjpL4WCOAU8aOaxZgqWCqBgEutqouzBSZLczQIY8zU7HcFp+iKx3THx3VYTcYc4IX8SLHK1OfBYuVtEuHeMYJTyKGFVab4gW1EGY0xNwuqMEwEYyMKOhDGTP2RyWD+fgnNKk76gkHw9XaEO0s32oJLbDXT46tJu6uYnkO2cvHl8kwbx3DDypO8RF7H5Opby02lCzLbVZcDRD2R6BcXpM54GcAztkil69EkAEZ+5Q5MPTN1RG91wdTD/CqRxwxrAQAAb+TU6bbamw802A0Axs9wNCCA4EuMDEGtA4lT4DIn1DIi+cNr7ivefdtZOPjrKrCZ4QHr9x3PHxfQlphYbOzpb/a4qUPylzfcpDwAsccxFYWFRE1UKdP2na/0dM+CKe19rgFsa3FWQSPT88y3cPd71lxI9FmQ++l7qz45d1epfw5mgW28dhdcPhj7SBXmFP5iPBM0UUIA8EZ6OICyWqkjJs2LDFoxZ9d1lY/T4dN10/YsteV2AtOcw8XXHAZ4RsRxUJ6Ju5OopqCy8Id0lUa9L/ND/zreuKmmnKYII9+4U4teWOZuunHMzL9t2RXzlpeZAAix6Qi4XUViMO1ZKRhhLKBblDQGMQGYUVW38EbZ/a+zFSKbOgQj0anlMw8ZuQaeyN3jLyWgEwgeYIQBALMdJM2xjycQiwFYsZkUHNbduLF5vEgv5xuZ901CjFidTtf7/Oj9C2uy3n0xomRjVm2mmwmdHWIVCADANzAAjZLGAIDIaiWAxWDCJ+EJLLC2tgXM3MyFBE/yfGSYic/u419PSmmaeXSeuf5tJIAgujR0sebm2znQM90mdK0NSr6ltbGAAAChlbdD2xfHP6q3CF1kfmn74dYaU89xg0SQEI9ZmiJbeLA448ze8Pem3lDXFAJGZMFqKzB5+XBelaJZXnH7ZnEby6ouzTMAl00ZVao2ee52L5AuuNLKcpZKjDFmm8/5g/nf7vfcRJGuXdFQX50f7Qy2qzMr6+XNJMs2p04H6axd569m3si+dU+mIFmMsU4WPRZGr8yoU5SeWWwF0NtEJMuKOvvWRbps21gwCzlxT6EmSXVLbXm15iluc6wydTpAQGp1m/LBhQ88ASA4j0Lt114TgcfuAnn1zehp8BjhE5oIJwuqMEwEPgk/q9SqyovvO4LjphIKYYwRVbLBFgBAMv96e3fZRurrc3ngtbegUaVqrK5tZxAnX07PYIwxq7o4VwQgXZSpV4k0GUEAAK77ZZVxHgAAfilNLFdcMCJr7pVUKVo1pKYx5x9OYBdRRgPGGJFlJ5e7G+hTx3TOSTmDMavKivyrmV7kMDf2djs7SAflTAv64Sa7RxLS92wTS5fvmAQgcXBytLWQAABMP1RJI0ZxIcwWAACcF6+fZyEaNC0wIstOvO7S0+qcNz14mg8ibHt2xGQAABBMmrvETyIKzqMwoutSQkcDABhPXxe9wNxgUCGHwqYUP7DTpwXmYkEVhom6Dzvaf316dWd3Dugqd00CsHhfP790saNkicF6FSCaf70dcfIdNC2QOuttCwC7Nd066fIPHQDcDtYyTEP8FADj5Xcp7rgw8hMv9AzWdkEf32pnce/nLMRQpJZm+84viKE6Oih2eL7XkPlLJOB3tonFGGPUkb1IAh5H6hmMMUY0qaGYoZlBOlKjITuHuLrfXpYiB9phaZKk+xceTuEjoB9uc4TJRxp6h8R+LKjCMBHMuaai6H4mGcX5IAPwOlLH4H5ALE2SlO6RGAyZL2KooTqRa2+HWq3piXXv/YvgiyX9RhKCLzY05GxHTw9CMHKMFZzds3Fni581U5uRkKr1PfyK/lpNCCVGQ9cjMep/aRzyXp5YIh4g5QklkqEJAYBtOPnGqpuO3mOonPgD8sDUhZY9PuNkQfCFIiG/u6ez8vSdH5//Pvl0rk+C7J3RAyZAYqDZofMl+OKB5IYIgi82lPbZ/dv9KhOO31FY/M0K+6Y7ufk/056R+fLM1fa/NMC/G3ijXlwxy1pTU42m7siSfRViMbgDBVYLN29dMuaRuxkBLLaesz+n9rt37IXDctX5dfBfDGQRAhpCfMsAAAAASUVORK5CYII=\"></div>"
      ]
     },
     "execution_count": 1,
     "metadata": {
      "text/html": []
     },
     "output_type": "execute_result"
    }
   ],
   "source": [
    "configure-jupyter.wls add"
   ]
  },
  {
   "cell_type": "code",
   "execution_count": 1,
   "metadata": {},
   "outputs": [
    {
     "data": {
      "text/plain": [
       "2"
      ]
     },
     "execution_count": 1,
     "metadata": {},
     "output_type": "execute_result"
    }
   ],
   "source": [
    "1+1"
   ]
  },
  {
   "cell_type": "code",
   "execution_count": 2,
   "metadata": {},
   "outputs": [
    {
     "ename": "SyntaxError",
     "evalue": "invalid syntax (<ipython-input-2-1a4db5c8cb79>, line 1)",
     "output_type": "error",
     "traceback": [
      "\u001b[1;36m  File \u001b[1;32m\"<ipython-input-2-1a4db5c8cb79>\"\u001b[1;36m, line \u001b[1;32m1\u001b[0m\n\u001b[1;33m    configure-jupyter.wls add\u001b[0m\n\u001b[1;37m                            ^\u001b[0m\n\u001b[1;31mSyntaxError\u001b[0m\u001b[1;31m:\u001b[0m invalid syntax\n"
     ]
    }
   ],
   "source": [
    "configure-jupyter.wls add"
   ]
  },
  {
   "cell_type": "code",
   "execution_count": 1,
   "metadata": {},
   "outputs": [],
   "source": [
    "f[a_]:=a^2"
   ]
  },
  {
   "cell_type": "code",
   "execution_count": 2,
   "metadata": {},
   "outputs": [
    {
     "data": {
      "text/html": [
       "<div><pre style=\"&#102;&#111;&#110;&#116;&#45;&#102;&#97;&#109;&#105;&#108;&#121;&#58;&#32;&#34;&#67;&#111;&#117;&#114;&#105;&#101;&#114;&#32;&#78;&#101;&#119;&#34;&#44;&#67;&#111;&#117;&#114;&#105;&#101;&#114;&#44;&#109;&#111;&#110;&#111;&#115;&#112;&#97;&#99;&#101;&#59;\">&#52;</pre></div>"
      ]
     },
     "execution_count": 2,
     "metadata": {
      "text/html": []
     },
     "output_type": "execute_result"
    }
   ],
   "source": [
    "f[2]"
   ]
  },
  {
   "cell_type": "code",
   "execution_count": 3,
   "metadata": {},
   "outputs": [
    {
     "data": {
      "text/html": [
       "<div><pre style=\"&#102;&#111;&#110;&#116;&#45;&#102;&#97;&#109;&#105;&#108;&#121;&#58;&#32;&#34;&#67;&#111;&#117;&#114;&#105;&#101;&#114;&#32;&#78;&#101;&#119;&#34;&#44;&#67;&#111;&#117;&#114;&#105;&#101;&#114;&#44;&#109;&#111;&#110;&#111;&#115;&#112;&#97;&#99;&#101;&#59;\">&#49;&#48;&#48;</pre></div>"
      ]
     },
     "execution_count": 3,
     "metadata": {
      "text/html": []
     },
     "output_type": "execute_result"
    }
   ],
   "source": [
    "f[10]"
   ]
  },
  {
   "cell_type": "code",
   "execution_count": 4,
   "metadata": {},
   "outputs": [
    {
     "data": {
      "text/html": [
       "<div><img alt=\"Output\" src=\"data:image/png;base64,iVBORw0KGgoAAAANSUhEUgAAABEAAAAPCAIAAACN07NGAAAAhXpUWHRSYXcgcHJvZmlsZSB0eXBlIGV4aWYAAHjaVYvBDcMwDAP/mqIjyLJM2uMYiQNkg45fuu0n9yApgbT1vi97felp2dgxABc5csRU6P6juNciDXn+X9MfZGWgoRhTluEkhnJXkqKFN+LCAahYcIbnIV8gNQN3o86928QyPusLVffpbh/5eCey76LuBgAAAAlwSFlzAAALEwAACxMBAJqcGAAAADx0RVh0U29mdHdhcmUAQ3JlYXRlZCB3aXRoIHRoZSBXb2xmcmFtIExhbmd1YWdlIDogd3d3LndvbGZyYW0uY29tXKKmhQAAACF0RVh0Q3JlYXRpb24gVGltZQAyMDE5OjEwOjEzIDAwOjQxOjM0PTSsFQAAAVZJREFUKJFj/P//PwOJgIlUDWTqYWFgYPj/8+nRFfPXn37NqemTnOSsyEnIoP9/nkwzZWDSDskpSrTlZ2Awn/b4z3/8gOH//3/fHt998+vf////vp2I5GHQn/YMrunfjwer6/Krl9798e////9/3x/rKSqdepYBSf+/76djeRgsl776ixD783pDIC+DYvmlb3/ebg7kZTDqufMDoeffrwdTLBg4vTe8RdLy////v58OpYgzSAZl2vNyui55/uf/fwaYhufrI0QZpFP2vUfV8f//////vhyL5WdgYHBc9eYv1D8wDZJxm1/8/ofp5T8vVnjxMHDwMzBZTLr389///wz//7zaHC3OwKCYvPTw6TNnzpw5c/HBF4Rd/37c7jZiYHNZ8vjVzgh+Bvn8k5//Mfz7tMsNLcrCz/2A6fh8IkeOgdN73as//////XQoWZyBJ2At4yBObwDgqTLhZftyzwAAAABJRU5ErkJggg==\"></div>"
      ]
     },
     "execution_count": 4,
     "metadata": {
      "text/html": []
     },
     "output_type": "execute_result"
    }
   ],
   "source": [
    "f'[x]"
   ]
  },
  {
   "cell_type": "code",
   "execution_count": null,
   "metadata": {},
   "outputs": [],
   "source": [
    "DS"
   ]
  }
 ],
 "metadata": {
  "kernelspec": {
   "display_name": "Wolfram Language 12",
   "language": "Wolfram Language",
   "name": "wolframlanguage12"
  },
  "language_info": {
   "codemirror_mode": "python",
   "file_extension": ".m",
   "mimetype": "application/vnd.wolfram.m",
   "name": "Wolfram Language",
   "pygments_lexer": "python",
   "version": "12.0"
  },
  "toc": {
   "base_numbering": 1,
   "nav_menu": {},
   "number_sections": true,
   "sideBar": true,
   "skip_h1_title": false,
   "title_cell": "Table of Contents",
   "title_sidebar": "Contents",
   "toc_cell": false,
   "toc_position": {},
   "toc_section_display": true,
   "toc_window_display": true
  }
 },
 "nbformat": 4,
 "nbformat_minor": 2
}
